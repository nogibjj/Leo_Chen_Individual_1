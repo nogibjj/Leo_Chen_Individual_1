{
 "cells": [
  {
   "cell_type": "code",
   "execution_count": 1,
   "metadata": {},
   "outputs": [],
   "source": [
    "import pandas as pd\n",
    "from mylib.lib import statistics\n",
    "from tabulate import tabulate\n",
    "import matplotlib.pyplot as plt"
   ]
  },
  {
   "cell_type": "code",
   "execution_count": 2,
   "metadata": {},
   "outputs": [],
   "source": [
    "df = pd.read_csv(\"https://raw.githubusercontent.com/fivethirtyeight/data/master/covid-geography/mmsa-icu-beds.csv\")"
   ]
  },
  {
   "cell_type": "markdown",
   "metadata": {},
   "source": [
    "## Summary statistics"
   ]
  },
  {
   "cell_type": "code",
   "execution_count": 3,
   "metadata": {},
   "outputs": [
    {
     "name": "stdout",
     "output_type": "stream",
     "text": [
      "Mean = 360.18518518518516, Median = 221.0, Standard Deviation = 450.58050757742967\n"
     ]
    },
    {
     "data": {
      "text/plain": [
       "(360.18518518518516, 221.0, 450.58050757742967)"
      ]
     },
     "execution_count": 3,
     "metadata": {},
     "output_type": "execute_result"
    }
   ],
   "source": [
    "statistics(True)"
   ]
  },
  {
   "cell_type": "code",
   "execution_count": 4,
   "metadata": {},
   "outputs": [],
   "source": [
    "mean, median, std = statistics()\n",
    "assert round(mean, 3) == 360.185\n",
    "assert median == 221\n",
    "assert round(std, 3) == 450.581"
   ]
  },
  {
   "cell_type": "code",
   "execution_count": 5,
   "metadata": {},
   "outputs": [
    {
     "name": "stdout",
     "output_type": "stream",
     "text": [
      "╒════════════════════╤═════════╕\n",
      "│ Statistic          │   Value │\n",
      "╞════════════════════╪═════════╡\n",
      "│ Mean               │ 360.185 │\n",
      "├────────────────────┼─────────┤\n",
      "│ Median             │ 221     │\n",
      "├────────────────────┼─────────┤\n",
      "│ Standard Deviation │ 450.581 │\n",
      "╘════════════════════╧═════════╛\n"
     ]
    }
   ],
   "source": [
    "table_data = [[\"Mean\", mean], [\"Median\", median], [\"Standard Deviation\", std]]\n",
    "print(tabulate(table_data, headers=[\"Statistic\", \"Value\"], tablefmt=\"fancy_grid\"))"
   ]
  },
  {
   "cell_type": "code",
   "execution_count": 6,
   "metadata": {},
   "outputs": [],
   "source": [
    "assert table_data is not None"
   ]
  },
  {
   "cell_type": "markdown",
   "metadata": {},
   "source": [
    "## Histogram"
   ]
  },
  {
   "cell_type": "code",
   "execution_count": 7,
   "metadata": {},
   "outputs": [
    {
     "data": {
      "image/png": "[encoded data removed]",
      "text/plain": [
       "<Figure size 720x432 with 1 Axes>"
      ]
     },
     "metadata": {
      "needs_background": "light"
     },
     "output_type": "display_data"
    }
   ],
   "source": [
    "plt.figure(figsize=(10, 6))\n",
    "plt.hist(df[\"icu_beds\"], bins=25, color=\"orange\", edgecolor=\"black\")\n",
    "plt.title(\"ICU Beds Histogram\", fontsize=16)\n",
    "plt.xlabel(\"Number of ICU Beds in the Area\", fontsize=12)\n",
    "plt.ylabel(\"Frequency\", fontsize=12)\n",
    "plt.show()"
   ]
  }
 ],
 "metadata": {
  "kernelspec": {
   "display_name": "base",
   "language": "python",
   "name": "python3"
  },
  "language_info": {
   "codemirror_mode": {
    "name": "ipython",
    "version": 3
   },
   "file_extension": ".py",
   "mimetype": "text/x-python",
   "name": "python",
   "nbconvert_exporter": "python",
   "pygments_lexer": "ipython3",
   "version": "3.9.7"
  }
 },
 "nbformat": 4,
 "nbformat_minor": 2
}
